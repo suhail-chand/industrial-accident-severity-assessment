{
 "cells": [
  {
   "cell_type": "markdown",
   "metadata": {},
   "source": [
    "### Imports"
   ]
  },
  {
   "cell_type": "code",
   "execution_count": 20,
   "metadata": {},
   "outputs": [
    {
     "name": "stderr",
     "output_type": "stream",
     "text": [
      "The cache for model files in Transformers v4.22.0 has been updated. Migrating your old cache. This is a one-time only operation. You can interrupt this and resume the migration later on by calling `transformers.utils.move_cache()`.\n",
      "0it [00:00, ?it/s]\n"
     ]
    }
   ],
   "source": [
    "import os\n",
    "import random\n",
    "\n",
    "# Libraries for reading and manipulating data\n",
    "import numpy as np\n",
    "import pandas as pd\n",
    "\n",
    "# Libraries for data visualization\n",
    "import matplotlib.pyplot as plt\n",
    "import seaborn as sns\n",
    "\n",
    "import torch\n",
    "from transformers import BertTokenizer, BertModel\n",
    "from sklearn.metrics.pairwise import cosine_similarity\n",
    "\n",
    "import warnings\n",
    "warnings.filterwarnings('ignore')\n",
    "\n",
    "%matplotlib inline\n",
    "pd.set_option('display.float_format', lambda x: '%.4f' % x)"
   ]
  },
  {
   "cell_type": "code",
   "execution_count": 2,
   "metadata": {},
   "outputs": [],
   "source": [
    "PROJECT_DIR = os.path.join(os.path.dirname('preprocessing.ipynb'), os.pardir)"
   ]
  },
  {
   "cell_type": "markdown",
   "metadata": {},
   "source": [
    "# Dataset"
   ]
  },
  {
   "cell_type": "markdown",
   "metadata": {},
   "source": [
    "## Overview"
   ]
  },
  {
   "cell_type": "code",
   "execution_count": 3,
   "metadata": {},
   "outputs": [
    {
     "data": {
      "text/html": [
       "<div>\n",
       "<style scoped>\n",
       "    .dataframe tbody tr th:only-of-type {\n",
       "        vertical-align: middle;\n",
       "    }\n",
       "\n",
       "    .dataframe tbody tr th {\n",
       "        vertical-align: top;\n",
       "    }\n",
       "\n",
       "    .dataframe thead th {\n",
       "        text-align: right;\n",
       "    }\n",
       "</style>\n",
       "<table border=\"1\" class=\"dataframe\">\n",
       "  <thead>\n",
       "    <tr style=\"text-align: right;\">\n",
       "      <th></th>\n",
       "      <th>Unnamed: 0</th>\n",
       "      <th>Data</th>\n",
       "      <th>Countries</th>\n",
       "      <th>Local</th>\n",
       "      <th>Industry Sector</th>\n",
       "      <th>Accident Level</th>\n",
       "      <th>Potential Accident Level</th>\n",
       "      <th>Genre</th>\n",
       "      <th>Employee or Third Party</th>\n",
       "      <th>Critical Risk</th>\n",
       "      <th>Description</th>\n",
       "    </tr>\n",
       "  </thead>\n",
       "  <tbody>\n",
       "    <tr>\n",
       "      <th>0</th>\n",
       "      <td>0</td>\n",
       "      <td>2016-01-01</td>\n",
       "      <td>Country_01</td>\n",
       "      <td>Local_01</td>\n",
       "      <td>Mining</td>\n",
       "      <td>I</td>\n",
       "      <td>IV</td>\n",
       "      <td>Male</td>\n",
       "      <td>Third Party</td>\n",
       "      <td>Pressed</td>\n",
       "      <td>While removing the drill rod of the Jumbo 08 f...</td>\n",
       "    </tr>\n",
       "    <tr>\n",
       "      <th>1</th>\n",
       "      <td>1</td>\n",
       "      <td>2016-01-02</td>\n",
       "      <td>Country_02</td>\n",
       "      <td>Local_02</td>\n",
       "      <td>Mining</td>\n",
       "      <td>I</td>\n",
       "      <td>IV</td>\n",
       "      <td>Male</td>\n",
       "      <td>Employee</td>\n",
       "      <td>Pressurized Systems</td>\n",
       "      <td>During the activation of a sodium sulphide pum...</td>\n",
       "    </tr>\n",
       "    <tr>\n",
       "      <th>2</th>\n",
       "      <td>2</td>\n",
       "      <td>2016-01-06</td>\n",
       "      <td>Country_01</td>\n",
       "      <td>Local_03</td>\n",
       "      <td>Mining</td>\n",
       "      <td>I</td>\n",
       "      <td>III</td>\n",
       "      <td>Male</td>\n",
       "      <td>Third Party (Remote)</td>\n",
       "      <td>Manual Tools</td>\n",
       "      <td>In the sub-station MILPO located at level +170...</td>\n",
       "    </tr>\n",
       "    <tr>\n",
       "      <th>3</th>\n",
       "      <td>3</td>\n",
       "      <td>2016-01-08</td>\n",
       "      <td>Country_01</td>\n",
       "      <td>Local_04</td>\n",
       "      <td>Mining</td>\n",
       "      <td>I</td>\n",
       "      <td>I</td>\n",
       "      <td>Male</td>\n",
       "      <td>Third Party</td>\n",
       "      <td>Others</td>\n",
       "      <td>Being 9:45 am. approximately in the Nv. 1880 C...</td>\n",
       "    </tr>\n",
       "    <tr>\n",
       "      <th>4</th>\n",
       "      <td>4</td>\n",
       "      <td>2016-01-10</td>\n",
       "      <td>Country_01</td>\n",
       "      <td>Local_04</td>\n",
       "      <td>Mining</td>\n",
       "      <td>IV</td>\n",
       "      <td>IV</td>\n",
       "      <td>Male</td>\n",
       "      <td>Third Party</td>\n",
       "      <td>Others</td>\n",
       "      <td>Approximately at 11:45 a.m. in circumstances t...</td>\n",
       "    </tr>\n",
       "  </tbody>\n",
       "</table>\n",
       "</div>"
      ],
      "text/plain": [
       "   Unnamed: 0       Data   Countries     Local Industry Sector Accident Level  \\\n",
       "0           0 2016-01-01  Country_01  Local_01          Mining              I   \n",
       "1           1 2016-01-02  Country_02  Local_02          Mining              I   \n",
       "2           2 2016-01-06  Country_01  Local_03          Mining              I   \n",
       "3           3 2016-01-08  Country_01  Local_04          Mining              I   \n",
       "4           4 2016-01-10  Country_01  Local_04          Mining             IV   \n",
       "\n",
       "  Potential Accident Level Genre Employee or Third Party        Critical Risk  \\\n",
       "0                       IV  Male             Third Party              Pressed   \n",
       "1                       IV  Male                Employee  Pressurized Systems   \n",
       "2                      III  Male    Third Party (Remote)         Manual Tools   \n",
       "3                        I  Male             Third Party               Others   \n",
       "4                       IV  Male             Third Party               Others   \n",
       "\n",
       "                                         Description  \n",
       "0  While removing the drill rod of the Jumbo 08 f...  \n",
       "1  During the activation of a sodium sulphide pum...  \n",
       "2  In the sub-station MILPO located at level +170...  \n",
       "3  Being 9:45 am. approximately in the Nv. 1880 C...  \n",
       "4  Approximately at 11:45 a.m. in circumstances t...  "
      ]
     },
     "execution_count": 3,
     "metadata": {},
     "output_type": "execute_result"
    }
   ],
   "source": [
    "is_df = pd.read_excel(f'{PROJECT_DIR}/data/raw/industrial_safety_and_health_database_with_accidents_description.xlsx')\n",
    "is_df.head()"
   ]
  },
  {
   "cell_type": "code",
   "execution_count": 4,
   "metadata": {},
   "outputs": [
    {
     "name": "stdout",
     "output_type": "stream",
     "text": [
      "<class 'pandas.core.frame.DataFrame'>\n",
      "RangeIndex: 425 entries, 0 to 424\n",
      "Data columns (total 11 columns):\n",
      " #   Column                    Non-Null Count  Dtype         \n",
      "---  ------                    --------------  -----         \n",
      " 0   Unnamed: 0                425 non-null    int64         \n",
      " 1   Data                      425 non-null    datetime64[ns]\n",
      " 2   Countries                 425 non-null    object        \n",
      " 3   Local                     425 non-null    object        \n",
      " 4   Industry Sector           425 non-null    object        \n",
      " 5   Accident Level            425 non-null    object        \n",
      " 6   Potential Accident Level  425 non-null    object        \n",
      " 7   Genre                     425 non-null    object        \n",
      " 8   Employee or Third Party   425 non-null    object        \n",
      " 9   Critical Risk             425 non-null    object        \n",
      " 10  Description               425 non-null    object        \n",
      "dtypes: datetime64[ns](1), int64(1), object(9)\n",
      "memory usage: 36.6+ KB\n"
     ]
    }
   ],
   "source": [
    "# Info\n",
    "is_df.info()"
   ]
  },
  {
   "cell_type": "code",
   "execution_count": 5,
   "metadata": {},
   "outputs": [
    {
     "data": {
      "text/plain": [
       "Unnamed: 0                  0\n",
       "Data                        0\n",
       "Countries                   0\n",
       "Local                       0\n",
       "Industry Sector             0\n",
       "Accident Level              0\n",
       "Potential Accident Level    0\n",
       "Genre                       0\n",
       "Employee or Third Party     0\n",
       "Critical Risk               0\n",
       "Description                 0\n",
       "dtype: int64"
      ]
     },
     "execution_count": 5,
     "metadata": {},
     "output_type": "execute_result"
    }
   ],
   "source": [
    "# null count\n",
    "is_df.isnull().sum()"
   ]
  },
  {
   "cell_type": "code",
   "execution_count": 6,
   "metadata": {},
   "outputs": [],
   "source": [
    "# Dropping the index column\n",
    "is_df.drop('Unnamed: 0', axis=1, inplace=True)"
   ]
  },
  {
   "cell_type": "code",
   "execution_count": 7,
   "metadata": {},
   "outputs": [
    {
     "data": {
      "text/plain": [
       "7"
      ]
     },
     "execution_count": 7,
     "metadata": {},
     "output_type": "execute_result"
    }
   ],
   "source": [
    "# Duplicates\n",
    "is_df.duplicated().sum()"
   ]
  },
  {
   "cell_type": "code",
   "execution_count": 8,
   "metadata": {},
   "outputs": [],
   "source": [
    "# Dropping duplicates\n",
    "is_df.drop_duplicates(inplace=True)"
   ]
  },
  {
   "cell_type": "code",
   "execution_count": 9,
   "metadata": {},
   "outputs": [
    {
     "name": "stdout",
     "output_type": "stream",
     "text": [
      "Value Counts\n",
      "**************************************************\n",
      "Countries\n",
      "Country_01    248\n",
      "Country_02    129\n",
      "Country_03     41\n",
      "Name: count, dtype: int64\n",
      "--------------------------------------------------\n",
      "Local\n",
      "Local_03    89\n",
      "Local_05    59\n",
      "Local_01    56\n",
      "Local_04    55\n",
      "Local_06    46\n",
      "Local_10    41\n",
      "Local_08    27\n",
      "Local_02    23\n",
      "Local_07    14\n",
      "Local_12     4\n",
      "Local_09     2\n",
      "Local_11     2\n",
      "Name: count, dtype: int64\n",
      "--------------------------------------------------\n",
      "Industry Sector\n",
      "Mining    237\n",
      "Metals    134\n",
      "Others     47\n",
      "Name: count, dtype: int64\n",
      "--------------------------------------------------\n",
      "Accident Level\n",
      "I      309\n",
      "II      40\n",
      "III     31\n",
      "IV      30\n",
      "V        8\n",
      "Name: count, dtype: int64\n",
      "--------------------------------------------------\n",
      "Potential Accident Level\n",
      "IV     141\n",
      "III    106\n",
      "II      95\n",
      "I       45\n",
      "V       30\n",
      "VI       1\n",
      "Name: count, dtype: int64\n",
      "--------------------------------------------------\n",
      "Genre\n",
      "Male      396\n",
      "Female     22\n",
      "Name: count, dtype: int64\n",
      "--------------------------------------------------\n",
      "Employee or Third Party\n",
      "Third Party             185\n",
      "Employee                178\n",
      "Third Party (Remote)     55\n",
      "Name: count, dtype: int64\n",
      "--------------------------------------------------\n",
      "Critical Risk\n",
      "Others                                       229\n",
      "Pressed                                       24\n",
      "Manual Tools                                  20\n",
      "Chemical substances                           17\n",
      "Cut                                           14\n",
      "Venomous Animals                              13\n",
      "Projection                                    13\n",
      "Bees                                          10\n",
      "Fall                                           9\n",
      "Vehicles and Mobile Equipment                  8\n",
      "Fall prevention (same level)                   7\n",
      "remains of choco                               7\n",
      "Pressurized Systems                            7\n",
      "Fall prevention                                6\n",
      "Suspended Loads                                6\n",
      "Blocking and isolation of energies             3\n",
      "Pressurized Systems / Chemical Substances      3\n",
      "Power lock                                     3\n",
      "Liquid Metal                                   3\n",
      "Machine Protection                             2\n",
      "Electrical Shock                               2\n",
      "Poll                                           1\n",
      "Individual protection equipment                1\n",
      "Projection/Manual Tools                        1\n",
      "Burn                                           1\n",
      "Electrical installation                        1\n",
      "Projection/Choco                               1\n",
      "Projection/Burning                             1\n",
      "Plates                                         1\n",
      "Confined space                                 1\n",
      "Traffic                                        1\n",
      "\\nNot applicable                               1\n",
      "Projection of fragments                        1\n",
      "Name: count, dtype: int64\n",
      "--------------------------------------------------\n"
     ]
    }
   ],
   "source": [
    "print('Value Counts')\n",
    "print('*'*50)\n",
    "for col in is_df.columns:\n",
    "    if col not in ['Data', 'Description']:\n",
    "        print(is_df[col].value_counts())\n",
    "        print('-'*50)"
   ]
  },
  {
   "cell_type": "markdown",
   "metadata": {},
   "source": [
    "## Genre | Accident Level | Potential Accident Level"
   ]
  },
  {
   "cell_type": "code",
   "execution_count": 10,
   "metadata": {},
   "outputs": [
    {
     "name": "stdout",
     "output_type": "stream",
     "text": [
      "<class 'pandas.core.frame.DataFrame'>\n",
      "Index: 418 entries, 0 to 424\n",
      "Data columns (total 10 columns):\n",
      " #   Column                    Non-Null Count  Dtype         \n",
      "---  ------                    --------------  -----         \n",
      " 0   Data                      418 non-null    datetime64[ns]\n",
      " 1   Countries                 418 non-null    object        \n",
      " 2   Local                     418 non-null    object        \n",
      " 3   Industry Sector           418 non-null    object        \n",
      " 4   Accident Level            418 non-null    int64         \n",
      " 5   Potential Accident Level  418 non-null    int64         \n",
      " 6   Genre                     418 non-null    int64         \n",
      " 7   Employee or Third Party   418 non-null    object        \n",
      " 8   Critical Risk             418 non-null    object        \n",
      " 9   Description               418 non-null    object        \n",
      "dtypes: datetime64[ns](1), int64(3), object(6)\n",
      "memory usage: 35.9+ KB\n"
     ]
    }
   ],
   "source": [
    "# Label encoding\n",
    "is_df['Genre'] = is_df['Genre'].apply(lambda x: {'Male': 0, 'Female': 1}[x])\n",
    "is_df['Accident Level'] = is_df['Accident Level'].apply(lambda x: {'I': 1, 'II': 2, 'III': 3, 'IV': 4, 'V': 5}[x])\n",
    "is_df['Potential Accident Level'] = is_df['Potential Accident Level'].apply(lambda x: {'I': 1, 'II': 2, 'III': 3, 'IV': 4, 'V': 5, 'VI': 6}[x])\n",
    "\n",
    "is_df.info()"
   ]
  },
  {
   "cell_type": "markdown",
   "metadata": {},
   "source": [
    "## Data (DateTime)"
   ]
  },
  {
   "cell_type": "code",
   "execution_count": 11,
   "metadata": {},
   "outputs": [],
   "source": [
    "# Splitting date, month and year\n",
    "is_df['Year'] = is_df['Data'].apply(lambda x: x.year)\n",
    "is_df['Month'] = is_df['Data'].apply(lambda x: x.month)\n",
    "is_df['Day'] = is_df['Data'].apply(lambda x: x.day)\n",
    "is_df['Timestamp'] = is_df['Data'].apply(lambda x: x.timestamp())"
   ]
  },
  {
   "cell_type": "code",
   "execution_count": 12,
   "metadata": {},
   "outputs": [
    {
     "data": {
      "image/png": "[encoded data removed]",
      "text/plain": [
       "<Figure size 1400x600 with 3 Axes>"
      ]
     },
     "metadata": {},
     "output_type": "display_data"
    }
   ],
   "source": [
    "# Distribution\n",
    "fig, ax = plt.subplots(1, 3, figsize=(14, 6))\n",
    "for i, col in enumerate(['Year', 'Month', 'Day']):\n",
    "    sns.countplot(is_df[col].astype('category'), stat='count', ax=ax[i])"
   ]
  },
  {
   "cell_type": "code",
   "execution_count": 13,
   "metadata": {},
   "outputs": [
    {
     "data": {
      "text/plain": [
       "<Axes: xlabel='Month', ylabel='count'>"
      ]
     },
     "execution_count": 13,
     "metadata": {},
     "output_type": "execute_result"
    },
    {
     "data": {
      "image/png": "[encoded data removed]",
      "text/plain": [
       "<Figure size 640x480 with 1 Axes>"
      ]
     },
     "metadata": {},
     "output_type": "display_data"
    }
   ],
   "source": [
    "# Countplot\n",
    "sns.countplot(is_df, x='Month', hue='Year', stat='count')"
   ]
  },
  {
   "cell_type": "code",
   "execution_count": 14,
   "metadata": {},
   "outputs": [
    {
     "data": {
      "text/plain": [
       "<Axes: xlabel='Accident Level', ylabel='count'>"
      ]
     },
     "execution_count": 14,
     "metadata": {},
     "output_type": "execute_result"
    },
    {
     "data": {
      "image/png": "[encoded data removed]",
      "text/plain": [
       "<Figure size 640x480 with 1 Axes>"
      ]
     },
     "metadata": {},
     "output_type": "display_data"
    }
   ],
   "source": [
    "# Countplot\n",
    "sns.countplot(is_df, x='Accident Level', hue='Month', stat='count', palette='Spectral')"
   ]
  },
  {
   "cell_type": "code",
   "execution_count": 15,
   "metadata": {},
   "outputs": [
    {
     "data": {
      "text/plain": [
       "<Axes: >"
      ]
     },
     "execution_count": 15,
     "metadata": {},
     "output_type": "execute_result"
    },
    {
     "data": {
      "image/png": "[encoded data removed]",
      "text/plain": [
       "<Figure size 640x480 with 2 Axes>"
      ]
     },
     "metadata": {},
     "output_type": "display_data"
    }
   ],
   "source": [
    "# Heatmap\n",
    "sns.heatmap(is_df[['Year', 'Month', 'Day', 'Timestamp', 'Accident Level']].corr(), vmin=-1, vmax=1, annot=True)"
   ]
  },
  {
   "cell_type": "code",
   "execution_count": 16,
   "metadata": {},
   "outputs": [],
   "source": [
    "# Dropping datetime info\n",
    "is_df.drop(['Data', 'Year', 'Month', 'Day', 'Timestamp'], axis=1, inplace=True)"
   ]
  },
  {
   "cell_type": "markdown",
   "metadata": {},
   "source": [
    "## Countries | Local | Industry Sector | Employee or Third Party"
   ]
  },
  {
   "cell_type": "code",
   "execution_count": 17,
   "metadata": {},
   "outputs": [
    {
     "name": "stdout",
     "output_type": "stream",
     "text": [
      "<class 'pandas.core.frame.DataFrame'>\n",
      "Index: 418 entries, 0 to 424\n",
      "Data columns (total 26 columns):\n",
      " #   Column                                        Non-Null Count  Dtype \n",
      "---  ------                                        --------------  ----- \n",
      " 0   Accident Level                                418 non-null    int64 \n",
      " 1   Potential Accident Level                      418 non-null    int64 \n",
      " 2   Genre                                         418 non-null    int64 \n",
      " 3   Critical Risk                                 418 non-null    object\n",
      " 4   Description                                   418 non-null    object\n",
      " 5   Countries_Country_01                          418 non-null    int64 \n",
      " 6   Countries_Country_02                          418 non-null    int64 \n",
      " 7   Countries_Country_03                          418 non-null    int64 \n",
      " 8   Local_Local_01                                418 non-null    int64 \n",
      " 9   Local_Local_02                                418 non-null    int64 \n",
      " 10  Local_Local_03                                418 non-null    int64 \n",
      " 11  Local_Local_04                                418 non-null    int64 \n",
      " 12  Local_Local_05                                418 non-null    int64 \n",
      " 13  Local_Local_06                                418 non-null    int64 \n",
      " 14  Local_Local_07                                418 non-null    int64 \n",
      " 15  Local_Local_08                                418 non-null    int64 \n",
      " 16  Local_Local_09                                418 non-null    int64 \n",
      " 17  Local_Local_10                                418 non-null    int64 \n",
      " 18  Local_Local_11                                418 non-null    int64 \n",
      " 19  Local_Local_12                                418 non-null    int64 \n",
      " 20  Industry Sector_Metals                        418 non-null    int64 \n",
      " 21  Industry Sector_Mining                        418 non-null    int64 \n",
      " 22  Industry Sector_Others                        418 non-null    int64 \n",
      " 23  Employee or Third Party_Employee              418 non-null    int64 \n",
      " 24  Employee or Third Party_Third Party           418 non-null    int64 \n",
      " 25  Employee or Third Party_Third Party (Remote)  418 non-null    int64 \n",
      "dtypes: int64(24), object(2)\n",
      "memory usage: 88.2+ KB\n"
     ]
    }
   ],
   "source": [
    "# One-hot encoding\n",
    "for col in ['Countries', 'Local', 'Industry Sector', 'Employee or Third Party']:\n",
    "    is_df = pd.concat([is_df, pd.get_dummies(is_df[col], prefix=col).astype('int64')], axis=1)\n",
    "    is_df.drop(col, axis=1, inplace=True)\n",
    "\n",
    "is_df.info()"
   ]
  },
  {
   "cell_type": "markdown",
   "metadata": {},
   "source": [
    "## Critical Risk"
   ]
  },
  {
   "cell_type": "markdown",
   "metadata": {},
   "source": [
    "## Description"
   ]
  },
  {
   "cell_type": "code",
   "execution_count": 25,
   "metadata": {},
   "outputs": [],
   "source": [
    "# Set a random seed\n",
    "rseed = 42\n",
    "random.seed(rseed)\n",
    " \n",
    "# Set a random seed for PyTorch (for GPU as well)\n",
    "torch.manual_seed(rseed)\n",
    "if torch.cuda.is_available():\n",
    "    torch.cuda.manual_seed_all(rseed)"
   ]
  },
  {
   "cell_type": "code",
   "execution_count": 40,
   "metadata": {},
   "outputs": [],
   "source": [
    "# Load BERT tokenizer and model\n",
    "bert_tokenizer = BertTokenizer.from_pretrained('bert-base-uncased')\n",
    "bert_model = BertModel.from_pretrained('bert-base-uncased')\n",
    "\n",
    "def generate_bert_embedding(sentences: list):\n",
    "    # Tokenize and encode given list of sentences\n",
    "    encoding = bert_tokenizer.batch_encode_plus(\n",
    "        sentences,\n",
    "        padding=True,\n",
    "        truncation=True,\n",
    "        return_tensors='pt',\n",
    "        add_special_tokens=True\n",
    "    )\n",
    "    \n",
    "    input_ids = encoding['input_ids']               # Token IDs\n",
    "    attention_mask = encoding['attention_mask']     # Attntion mask\n",
    " \n",
    "    # Generate embeddings\n",
    "    with torch.no_grad():\n",
    "        outputs = bert_model(input_ids, attention_mask=attention_mask)\n",
    "        sentence_embeddings = outputs.last_hidden_state.mean(dim=1)\n",
    "    \n",
    "    return sentence_embeddings"
   ]
  },
  {
   "cell_type": "code",
   "execution_count": 41,
   "metadata": {},
   "outputs": [
    {
     "data": {
      "text/plain": [
       "torch.Size([418, 768])"
      ]
     },
     "execution_count": 41,
     "metadata": {},
     "output_type": "execute_result"
    }
   ],
   "source": [
    "# Generating embeddings for each Description text\n",
    "description_embs = generate_bert_embedding(list(is_df['Description']))\n",
    "description_embs.shape"
   ]
  },
  {
   "cell_type": "code",
   "execution_count": null,
   "metadata": {},
   "outputs": [],
   "source": [
    "pd.DataFrame(description_embs).head()"
   ]
  },
  {
   "cell_type": "code",
   "execution_count": null,
   "metadata": {},
   "outputs": [],
   "source": []
  }
 ],
 "metadata": {
  "kernelspec": {
   "display_name": "gpu",
   "language": "python",
   "name": "python3"
  },
  "language_info": {
   "codemirror_mode": {
    "name": "ipython",
    "version": 3
   },
   "file_extension": ".py",
   "mimetype": "text/x-python",
   "name": "python",
   "nbconvert_exporter": "python",
   "pygments_lexer": "ipython3",
   "version": "3.10.14"
  }
 },
 "nbformat": 4,
 "nbformat_minor": 2
}
