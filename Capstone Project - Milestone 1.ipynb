from sklearn.feature_extraction.text import TfidfVectorizer
tfidf_df = pd.DataFrame()
for i in [1,2,3]:
    tfidf = TfidfVectorizer(max_features=20, stop_words='english', lowercase=True, use_idf=True, ngram_range=(i,i))
    X = tfidf.fit_transform(read_df['Cleansed_Description']).toarray()
    tfs = pd.DataFrame(X, columns=["TFIDF_" + n for n in tfidf.get_feature_names_out() ])
    tfidf_df = pd.concat([tfidf_df.reset_index(drop=True), tfs.reset_index(drop=True)], axis=1)

tfidf_df.head(3)
